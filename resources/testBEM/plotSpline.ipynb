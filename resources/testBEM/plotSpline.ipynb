{
 "cells": [
  {
   "cell_type": "code",
   "execution_count": 1,
   "metadata": {},
   "outputs": [],
   "source": [
    "import pandas as pd\n",
    "import numpy as np\n",
    "from matplotlib import pyplot as plt\n",
    "def PolyCoefficients(x, coeffs):\n",
    "    o = len(coeffs)\n",
    "    y = 0\n",
    "    for i in range(o):\n",
    "        y += coeffs[i]*x**i\n",
    "    return y\n",
    "dim = 2\n",
    "folder = \"./\""
   ]
  },
  {
   "cell_type": "code",
   "execution_count": 7,
   "metadata": {},
   "outputs": [
    {
     "data": {
      "image/png": "[encoded data removed]",
      "text/plain": [
       "<Figure size 432x288 with 1 Axes>"
      ]
     },
     "metadata": {
      "needs_background": "light"
     },
     "output_type": "display_data"
    }
   ],
   "source": [
    "fig = plt.figure()\n",
    "ar = pd.read_csv(folder+\"spline.txt\",delimiter='\\t',header=None).values\n",
    "l = (ar.shape[0]+1)/(dim+1)\n",
    "\n",
    "ax = fig.add_subplot(111)\n",
    "t = np.linspace(0.01, 0.99, 10)\n",
    "\n",
    "for k in range(0,l-1,1):\n",
    "    cx = ar[0+k]\n",
    "    cy = ar[l+k]                    \n",
    "    ax.plot(PolyCoefficients(t,cx),PolyCoefficients(t,cy))           \n",
    "\n",
    "ax.set_aspect('equal','box')\n",
    "plt.show()"
   ]
  },
  {
   "cell_type": "code",
   "execution_count": 12,
   "metadata": {},
   "outputs": [],
   "source": [
    "from scipy import special as spf"
   ]
  },
  {
   "cell_type": "code",
   "execution_count": 14,
   "metadata": {},
   "outputs": [
    {
     "data": {
      "text/plain": [
       "1.5707963267948966"
      ]
     },
     "execution_count": 14,
     "metadata": {},
     "output_type": "execute_result"
    }
   ],
   "source": [
    "spf.ellipk(0) "
   ]
  },
  {
   "cell_type": "code",
   "execution_count": null,
   "metadata": {},
   "outputs": [],
   "source": []
  }
 ],
 "metadata": {
  "kernelspec": {
   "display_name": "Python 2",
   "language": "python",
   "name": "python2"
  },
  "language_info": {
   "codemirror_mode": {
    "name": "ipython",
    "version": 2
   },
   "file_extension": ".py",
   "mimetype": "text/x-python",
   "name": "python",
   "nbconvert_exporter": "python",
   "pygments_lexer": "ipython2",
   "version": "2.7.12"
  }
 },
 "nbformat": 4,
 "nbformat_minor": 2
}
