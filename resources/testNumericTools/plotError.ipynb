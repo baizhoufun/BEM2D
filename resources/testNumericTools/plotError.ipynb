{
 "cells": [
  {
   "cell_type": "code",
   "execution_count": 1,
   "metadata": {},
   "outputs": [],
   "source": [
    "import pandas as pd\n",
    "import numpy as np\n",
    "from matplotlib import pyplot as plt\n",
    "from scipy import special as spf"
   ]
  },
  {
   "cell_type": "code",
   "execution_count": 2,
   "metadata": {},
   "outputs": [
    {
     "name": "stdout",
     "output_type": "stream",
     "text": [
      "elliptic K max abs error = 5.10702591327572e-15\n",
      "elliptic K max abs error = 5.10702591327572e-15\n"
     ]
    }
   ],
   "source": [
    "ar = pd.read_csv(\"ellipticIntegral.txt\",delimiter='\\t',header=None).values\n",
    "print \"elliptic K max abs error =\", max(abs(spf.ellipk(ar[:,0])-ar[:,1]))\n",
    "print \"elliptic K max abs error =\", max(abs(spf.ellipe(ar[:,0])-ar[:,2]))"
   ]
  },
  {
   "cell_type": "code",
   "execution_count": 32,
   "metadata": {},
   "outputs": [
    {
     "name": "stdout",
     "output_type": "stream",
     "text": [
      "Legendre order\tmax abs error\n",
      "0.0     \t0.000e+00\n",
      "0.5     \t3.331e-15\n",
      "1.0     \t1.110e-16\n",
      "1.5     \t1.721e-15\n",
      "2.0     \t7.216e-16\n",
      "2.5     \t2.109e-15\n",
      "3.0     \t1.166e-15\n",
      "3.5     \t8.993e-15\n",
      "4.0     \t1.443e-15\n",
      "4.5     \t3.941e-15\n",
      "5.0     \t2.026e-15\n"
     ]
    }
   ],
   "source": [
    "ar = pd.read_csv(\"legendrePoly.txt\",delimiter='\\t',header=None).values\n",
    "print \"Legendre order\\t\",\"max abs error\"\n",
    "for l in np.arange(0,5.5,0.5):\n",
    "    col = int(2*l+1)\n",
    "    print('{:02.1f}{:<5}\\t{:02.3e}'.format(l,\"\",max(abs(spf.eval_legendre(l,ar[:,0])-ar[:,col]))))"
   ]
  },
  {
   "cell_type": "code",
   "execution_count": 19,
   "metadata": {},
   "outputs": [],
   "source": [
    "import scipy.integrate as itg\n",
    "ts = 0.2;\n",
    "def f(x):\n",
    "    return np.cos(10*x)*np.exp(-x)\n",
    "def g(x):\n",
    "    return np.cos(10*x)*np.exp(-x)*np.log(np.abs(ts-x))\n",
    "ar = pd.read_csv(\"quadratureIntegral.txt\",delimiter='\\t',header=None).values"
   ]
  },
  {
   "cell_type": "code",
   "execution_count": 23,
   "metadata": {},
   "outputs": [
    {
     "name": "stdout",
     "output_type": "stream",
     "text": [
      "python              \tmine                \terror               \n",
      "-0.00685806591460372955\t-0.0068580659146037\t4.944e-17\n",
      "0.10877465222776902531\t0.10877465222776899756\t2.776e-17\n"
     ]
    }
   ],
   "source": [
    "print('{:<20}\\t{:<20}\\t{:<20}'.format('python','mine','error'))\n",
    "pyt, mine = itg.quad(f, 0,1, epsabs=1e-16)[0] ,ar[-1,1]\n",
    "print('{:02.20f}\\t{:02.16f}\\t{:02.3e}'.format(pyt,mine,np.abs(pyt-mine)))\n",
    "pyt= itg.quad(g,0, 1.0,epsrel=1e-15,epsabs=1e-14,points=[0,0.2,1.0])[0]\n",
    "mine = ar[-1,2]\n",
    "print('{:02.20f}\\t{:02.20f}\\t{:02.3e}'.format(pyt,mine,np.abs(pyt-mine)))"
   ]
  }
 ],
 "metadata": {
  "kernelspec": {
   "display_name": "Python 2",
   "language": "python",
   "name": "python2"
  },
  "language_info": {
   "codemirror_mode": {
    "name": "ipython",
    "version": 2
   },
   "file_extension": ".py",
   "mimetype": "text/x-python",
   "name": "python",
   "nbconvert_exporter": "python",
   "pygments_lexer": "ipython2",
   "version": "2.7.17"
  }
 },
 "nbformat": 4,
 "nbformat_minor": 2
}
