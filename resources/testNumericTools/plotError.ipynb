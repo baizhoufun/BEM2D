{
 "cells": [
  {
   "cell_type": "code",
   "execution_count": 3,
   "metadata": {},
   "outputs": [],
   "source": [
    "import pandas as pd\n",
    "import numpy as np\n",
    "from matplotlib import pyplot as plt\n",
    "from scipy import special as spf"
   ]
  },
  {
   "cell_type": "code",
   "execution_count": 5,
   "metadata": {},
   "outputs": [
    {
     "output_type": "stream",
     "name": "stdout",
     "text": "elliptic K max abs error = 5.10702591327572e-15\nelliptic K max abs error = 5.10702591327572e-15\n"
    }
   ],
   "source": [
    "ar = pd.read_csv(\"ellipticIntegral.txt\",delimiter='\\t',header=None).values\n",
    "print \"elliptic K max abs error =\", max(abs(spf.ellipk(ar[:,0])-ar[:,1]))\n",
    "print \"elliptic K max abs error =\", max(abs(spf.ellipe(ar[:,0])-ar[:,2]))"
   ]
  },
  {
   "cell_type": "code",
   "execution_count": 6,
   "metadata": {},
   "outputs": [
    {
     "output_type": "stream",
     "name": "stdout",
     "text": "legendre 0.0 max abs error = 0.0\nlegendre 0.5 max abs error = 3.3306690738754696e-15\nlegendre 1.0 max abs error = 1.1102230246251565e-16\nlegendre 1.5 max abs error = 1.7208456881689926e-15\nlegendre 2.0 max abs error = 7.216449660063518e-16\nlegendre 2.5 max abs error = 2.1094237467877974e-15\nlegendre 3.0 max abs error = 1.1657341758564144e-15\nlegendre 3.5 max abs error = 8.992806499463768e-15\nlegendre 4.0 max abs error = 1.4432899320127035e-15\nlegendre 4.5 max abs error = 3.941291737419306e-15\nlegendre 5.0 max abs error = 2.0261570199409107e-15\n"
    }
   ],
   "source": [
    "ar = pd.read_csv(\"legendrePoly.txt\",delimiter='\\t',header=None).values\n",
    "for l in np.arange(0,5.5,0.5):\n",
    "    col = int(2*l+1)\n",
    "    print \"legendre\", l, \"max abs error =\", max(abs(spf.eval_legendre(l,ar[:,0])-ar[:,col]))"
   ]
  },
  {
   "cell_type": "code",
   "execution_count": 47,
   "metadata": {},
   "outputs": [],
   "source": [
    "import scipy.integrate as itg\n",
    "ts = 0.2;\n",
    "def f(x):\n",
    "    return np.cos(10*x)*np.exp(-x)\n",
    "def g(x):\n",
    "    return np.cos(10*x)*np.exp(-x)*np.log(np.abs(ts-x))\n",
    "ar = pd.read_csv(\"quadratureIntegral.txt\",delimiter='\\t',header=None).values"
   ]
  },
  {
   "cell_type": "code",
   "execution_count": 121,
   "metadata": {},
   "outputs": [
    {
     "output_type": "stream",
     "name": "stdout",
     "text": "python              \tmine                \terror               \n-0.00685806591460372955\t-0.0068580659146037\t0.00000000000000004944\n0.10877465222776902531\t0.1087746522277690\t0.00000000000000002776\n"
    }
   ],
   "source": [
    "print('{:<20}\\t{:<20}\\t{:<20}'.format('python','mine','error'))\n",
    "pyt, mine = itg.quad(f, 0,1, epsabs=1e-16)[0] ,ar[-1,1]\n",
    "print('{:02.20f}\\t{:02.16f}\\t{:02.20f}'.format(pyt,mine,np.abs(pyt-mine)))\n",
    "pyt= itg.quad(g,0, 1.0,epsrel=1e-15,epsabs=1e-14,points=[0,0.2,1.0])[0]\n",
    "mine = ar[-1,2]\n",
    "print('{:02.20f}\\t{:02.16f}\\t{:02.20f}'.format(pyt,mine,np.abs(pyt-mine)))"
   ]
  }
 ],
 "metadata": {
  "kernelspec": {
   "display_name": "Python 2",
   "language": "python",
   "name": "python2"
  },
  "language_info": {
   "codemirror_mode": {
    "name": "ipython",
    "version": 2
   },
   "file_extension": ".py",
   "mimetype": "text/x-python",
   "name": "python",
   "nbconvert_exporter": "python",
   "pygments_lexer": "ipython2",
   "version": "2.7.12-final"
  }
 },
 "nbformat": 4,
 "nbformat_minor": 2
}